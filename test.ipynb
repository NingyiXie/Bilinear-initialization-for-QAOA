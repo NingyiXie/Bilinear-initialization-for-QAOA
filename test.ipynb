{
 "cells": [
  {
   "cell_type": "code",
   "execution_count": 1,
   "id": "93fccd77-e94a-455a-b0cd-5c8abf68e32a",
   "metadata": {
    "tags": []
   },
   "outputs": [],
   "source": [
    "import networkx as nx\n",
    "\n",
    "from maxcut import Cmax\n",
    "from bilinear import bilinear_initialization"
   ]
  },
  {
   "cell_type": "code",
   "execution_count": 2,
   "id": "4c2dde61-a85a-4a76-bd07-548e4b65c8e3",
   "metadata": {},
   "outputs": [],
   "source": [
    "graph = nx.fast_gnp_random_graph(10, 0.7, seed=0)\n",
    "q=10\n",
    "p1params=[0.37809018695437396,0.28823236119894735]\n",
    "p2params=[0.30178841897840447,0.6458135817374022,0.40052444692165784,0.242661849155365]"
   ]
  },
  {
   "cell_type": "code",
   "execution_count": 3,
   "id": "dc1e1dde-5dcf-4db4-baa8-e21a01fe08a2",
   "metadata": {},
   "outputs": [
    {
     "name": "stdout",
     "output_type": "stream",
     "text": [
      "Optimizing p =  3     ......\n",
      "Optimizing p =  4     ......\n",
      "Optimizing p =  5     ......\n",
      "Optimizing p =  6     ......\n",
      "Optimizing p =  7     ......\n",
      "Optimizing p =  8     ......\n",
      "Optimizing p =  9     ......\n",
      "Optimizing p =  10     ......\n"
     ]
    }
   ],
   "source": [
    "param_dict,exp_dict=bilinear_initialization(graph,q,p1params,p2params)"
   ]
  },
  {
   "cell_type": "code",
   "execution_count": 4,
   "id": "2a8b4809-e37c-4fc8-a962-89f2cca23a09",
   "metadata": {},
   "outputs": [
    {
     "name": "stdout",
     "output_type": "stream",
     "text": [
      "Approx.Ratio\n",
      "p=1 0.8462358473073367\n",
      "p=2 0.8970527007626579\n",
      "p=3 0.9221221567027923\n",
      "p=4 0.9362105171502384\n",
      "p=5 0.9452311887736773\n",
      "p=6 0.9519774017267378\n",
      "p=7 0.9575496373824265\n",
      "p=8 0.962180034622917\n",
      "p=9 0.9661017965582037\n",
      "p=10 0.9697096847624941\n"
     ]
    }
   ],
   "source": [
    "true_obj = Cmax(graph)\n",
    "print('Approx.Ratio')\n",
    "for p in exp_dict.keys():\n",
    "    print(f'p={p}', exp_dict[p]/true_obj)"
   ]
  },
  {
   "cell_type": "code",
   "execution_count": null,
   "id": "edb9d220-824f-450a-855a-010395be2934",
   "metadata": {},
   "outputs": [],
   "source": []
  }
 ],
 "metadata": {
  "kernelspec": {
   "display_name": "Python 3",
   "language": "python",
   "name": "python3"
  },
  "language_info": {
   "codemirror_mode": {
    "name": "ipython",
    "version": 3
   },
   "file_extension": ".py",
   "mimetype": "text/x-python",
   "name": "python",
   "nbconvert_exporter": "python",
   "pygments_lexer": "ipython3",
   "version": "3.9.12"
  }
 },
 "nbformat": 4,
 "nbformat_minor": 5
}
